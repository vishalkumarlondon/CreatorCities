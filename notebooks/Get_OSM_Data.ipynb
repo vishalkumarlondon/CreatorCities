{
  "cells": [
    {
      "cell_type": "markdown",
      "metadata": {
        "id": "view-in-github",
        "colab_type": "text"
      },
      "source": [
        "<a href=\"https://colab.research.google.com/github/vishalkumarlondon/CreatorCities/blob/main/notebooks/Get_OSM_Data.ipynb\" target=\"_parent\"><img src=\"https://colab.research.google.com/assets/colab-badge.svg\" alt=\"Open In Colab\"/></a>"
      ]
    },
    {
      "cell_type": "code",
      "execution_count": null,
      "metadata": {
        "id": "FQNTtH4yAXEX"
      },
      "outputs": [],
      "source": [
        "!pip install osmnx\n",
        "!pip install OSMPythonTools"
      ]
    },
    {
      "cell_type": "code",
      "execution_count": null,
      "metadata": {
        "id": "xKWGG-TNAcge"
      },
      "outputs": [],
      "source": [
        "# If running on colab, make sure to restart runtime before running this cell\n",
        "\n",
        "import osmnx as ox\n",
        "import pandas as pd\n",
        "import numpy as np"
      ]
    },
    {
      "cell_type": "markdown",
      "metadata": {
        "id": "_degHMfodo8H"
      },
      "source": [
        "# Step 0 - Get City Data\n",
        "\n",
        "- Data source: Twitter\n"
      ]
    },
    {
      "cell_type": "code",
      "execution_count": null,
      "metadata": {
        "colab": {
          "base_uri": "https://localhost:8080/",
          "height": 373
        },
        "id": "i0_Zmbum-tVx",
        "outputId": "a854d08b-a3cc-4c3b-c8c8-21e5e49f27db"
      },
      "outputs": [
        {
          "output_type": "stream",
          "name": "stdout",
          "text": [
            "Dataframe (236, 11)\n"
          ]
        },
        {
          "output_type": "execute_result",
          "data": {
            "text/plain": [
              "   Unnamed: 0              City    Pro  Expert  Expert+  Creator Count  \\\n",
              "0           0        London, UK  14436    1609      179          16224   \n",
              "1           1   Los Angeles, CA  12629    2197      258          15084   \n",
              "2           2      New York, NY   8098    1268      191           9557   \n",
              "3           3  Washington, D.C.   5664     804       92           6560   \n",
              "4           5        Austin, TX   4635     800       98           5533   \n",
              "\n",
              "                                            location  \\\n",
              "0    London, Greater London, England, United Kingdom   \n",
              "1  Los Angeles, Los Angeles County, California, U...   \n",
              "2                            New York, United States   \n",
              "3  Embassy of Hungary, 1500, Rhode Island Avenue ...   \n",
              "4        Austin, Travis County, Texas, United States   \n",
              "\n",
              "                      coordinates            state          country  \\\n",
              "0   (51.5073219, -0.1276474, 0.0)           London   United Kingdom   \n",
              "1  (34.0536909, -118.242766, 0.0)      Los Angeles    United States   \n",
              "2  (40.7127281, -74.0060152, 0.0)         New York    United States   \n",
              "3  (38.9074322, -77.0350922, 0.0)  Washington D.C.    United States   \n",
              "4  (30.2711286, -97.7436995, 0.0)           Austin    United States   \n",
              "\n",
              "                  OSM_Search_Query  \n",
              "0          London,  United Kingdom  \n",
              "1      Los Angeles,  United States  \n",
              "2         New York,  United States  \n",
              "3  Washington D.C.,  United States  \n",
              "4           Austin,  United States  "
            ],
            "text/html": [
              "\n",
              "  <div id=\"df-a3311197-5cfb-4a72-9e52-93310a20e58b\">\n",
              "    <div class=\"colab-df-container\">\n",
              "      <div>\n",
              "<style scoped>\n",
              "    .dataframe tbody tr th:only-of-type {\n",
              "        vertical-align: middle;\n",
              "    }\n",
              "\n",
              "    .dataframe tbody tr th {\n",
              "        vertical-align: top;\n",
              "    }\n",
              "\n",
              "    .dataframe thead th {\n",
              "        text-align: right;\n",
              "    }\n",
              "</style>\n",
              "<table border=\"1\" class=\"dataframe\">\n",
              "  <thead>\n",
              "    <tr style=\"text-align: right;\">\n",
              "      <th></th>\n",
              "      <th>Unnamed: 0</th>\n",
              "      <th>City</th>\n",
              "      <th>Pro</th>\n",
              "      <th>Expert</th>\n",
              "      <th>Expert+</th>\n",
              "      <th>Creator Count</th>\n",
              "      <th>location</th>\n",
              "      <th>coordinates</th>\n",
              "      <th>state</th>\n",
              "      <th>country</th>\n",
              "      <th>OSM_Search_Query</th>\n",
              "    </tr>\n",
              "  </thead>\n",
              "  <tbody>\n",
              "    <tr>\n",
              "      <th>0</th>\n",
              "      <td>0</td>\n",
              "      <td>London, UK</td>\n",
              "      <td>14436</td>\n",
              "      <td>1609</td>\n",
              "      <td>179</td>\n",
              "      <td>16224</td>\n",
              "      <td>London, Greater London, England, United Kingdom</td>\n",
              "      <td>(51.5073219, -0.1276474, 0.0)</td>\n",
              "      <td>London</td>\n",
              "      <td>United Kingdom</td>\n",
              "      <td>London,  United Kingdom</td>\n",
              "    </tr>\n",
              "    <tr>\n",
              "      <th>1</th>\n",
              "      <td>1</td>\n",
              "      <td>Los Angeles, CA</td>\n",
              "      <td>12629</td>\n",
              "      <td>2197</td>\n",
              "      <td>258</td>\n",
              "      <td>15084</td>\n",
              "      <td>Los Angeles, Los Angeles County, California, U...</td>\n",
              "      <td>(34.0536909, -118.242766, 0.0)</td>\n",
              "      <td>Los Angeles</td>\n",
              "      <td>United States</td>\n",
              "      <td>Los Angeles,  United States</td>\n",
              "    </tr>\n",
              "    <tr>\n",
              "      <th>2</th>\n",
              "      <td>2</td>\n",
              "      <td>New York, NY</td>\n",
              "      <td>8098</td>\n",
              "      <td>1268</td>\n",
              "      <td>191</td>\n",
              "      <td>9557</td>\n",
              "      <td>New York, United States</td>\n",
              "      <td>(40.7127281, -74.0060152, 0.0)</td>\n",
              "      <td>New York</td>\n",
              "      <td>United States</td>\n",
              "      <td>New York,  United States</td>\n",
              "    </tr>\n",
              "    <tr>\n",
              "      <th>3</th>\n",
              "      <td>3</td>\n",
              "      <td>Washington, D.C.</td>\n",
              "      <td>5664</td>\n",
              "      <td>804</td>\n",
              "      <td>92</td>\n",
              "      <td>6560</td>\n",
              "      <td>Embassy of Hungary, 1500, Rhode Island Avenue ...</td>\n",
              "      <td>(38.9074322, -77.0350922, 0.0)</td>\n",
              "      <td>Washington D.C.</td>\n",
              "      <td>United States</td>\n",
              "      <td>Washington D.C.,  United States</td>\n",
              "    </tr>\n",
              "    <tr>\n",
              "      <th>4</th>\n",
              "      <td>5</td>\n",
              "      <td>Austin, TX</td>\n",
              "      <td>4635</td>\n",
              "      <td>800</td>\n",
              "      <td>98</td>\n",
              "      <td>5533</td>\n",
              "      <td>Austin, Travis County, Texas, United States</td>\n",
              "      <td>(30.2711286, -97.7436995, 0.0)</td>\n",
              "      <td>Austin</td>\n",
              "      <td>United States</td>\n",
              "      <td>Austin,  United States</td>\n",
              "    </tr>\n",
              "  </tbody>\n",
              "</table>\n",
              "</div>\n",
              "      <button class=\"colab-df-convert\" onclick=\"convertToInteractive('df-a3311197-5cfb-4a72-9e52-93310a20e58b')\"\n",
              "              title=\"Convert this dataframe to an interactive table.\"\n",
              "              style=\"display:none;\">\n",
              "        \n",
              "  <svg xmlns=\"http://www.w3.org/2000/svg\" height=\"24px\"viewBox=\"0 0 24 24\"\n",
              "       width=\"24px\">\n",
              "    <path d=\"M0 0h24v24H0V0z\" fill=\"none\"/>\n",
              "    <path d=\"M18.56 5.44l.94 2.06.94-2.06 2.06-.94-2.06-.94-.94-2.06-.94 2.06-2.06.94zm-11 1L8.5 8.5l.94-2.06 2.06-.94-2.06-.94L8.5 2.5l-.94 2.06-2.06.94zm10 10l.94 2.06.94-2.06 2.06-.94-2.06-.94-.94-2.06-.94 2.06-2.06.94z\"/><path d=\"M17.41 7.96l-1.37-1.37c-.4-.4-.92-.59-1.43-.59-.52 0-1.04.2-1.43.59L10.3 9.45l-7.72 7.72c-.78.78-.78 2.05 0 2.83L4 21.41c.39.39.9.59 1.41.59.51 0 1.02-.2 1.41-.59l7.78-7.78 2.81-2.81c.8-.78.8-2.07 0-2.86zM5.41 20L4 18.59l7.72-7.72 1.47 1.35L5.41 20z\"/>\n",
              "  </svg>\n",
              "      </button>\n",
              "      \n",
              "  <style>\n",
              "    .colab-df-container {\n",
              "      display:flex;\n",
              "      flex-wrap:wrap;\n",
              "      gap: 12px;\n",
              "    }\n",
              "\n",
              "    .colab-df-convert {\n",
              "      background-color: #E8F0FE;\n",
              "      border: none;\n",
              "      border-radius: 50%;\n",
              "      cursor: pointer;\n",
              "      display: none;\n",
              "      fill: #1967D2;\n",
              "      height: 32px;\n",
              "      padding: 0 0 0 0;\n",
              "      width: 32px;\n",
              "    }\n",
              "\n",
              "    .colab-df-convert:hover {\n",
              "      background-color: #E2EBFA;\n",
              "      box-shadow: 0px 1px 2px rgba(60, 64, 67, 0.3), 0px 1px 3px 1px rgba(60, 64, 67, 0.15);\n",
              "      fill: #174EA6;\n",
              "    }\n",
              "\n",
              "    [theme=dark] .colab-df-convert {\n",
              "      background-color: #3B4455;\n",
              "      fill: #D2E3FC;\n",
              "    }\n",
              "\n",
              "    [theme=dark] .colab-df-convert:hover {\n",
              "      background-color: #434B5C;\n",
              "      box-shadow: 0px 1px 3px 1px rgba(0, 0, 0, 0.15);\n",
              "      filter: drop-shadow(0px 1px 2px rgba(0, 0, 0, 0.3));\n",
              "      fill: #FFFFFF;\n",
              "    }\n",
              "  </style>\n",
              "\n",
              "      <script>\n",
              "        const buttonEl =\n",
              "          document.querySelector('#df-a3311197-5cfb-4a72-9e52-93310a20e58b button.colab-df-convert');\n",
              "        buttonEl.style.display =\n",
              "          google.colab.kernel.accessAllowed ? 'block' : 'none';\n",
              "\n",
              "        async function convertToInteractive(key) {\n",
              "          const element = document.querySelector('#df-a3311197-5cfb-4a72-9e52-93310a20e58b');\n",
              "          const dataTable =\n",
              "            await google.colab.kernel.invokeFunction('convertToInteractive',\n",
              "                                                     [key], {});\n",
              "          if (!dataTable) return;\n",
              "\n",
              "          const docLinkHtml = 'Like what you see? Visit the ' +\n",
              "            '<a target=\"_blank\" href=https://colab.research.google.com/notebooks/data_table.ipynb>data table notebook</a>'\n",
              "            + ' to learn more about interactive tables.';\n",
              "          element.innerHTML = '';\n",
              "          dataTable['output_type'] = 'display_data';\n",
              "          await google.colab.output.renderOutput(dataTable, element);\n",
              "          const docLink = document.createElement('div');\n",
              "          docLink.innerHTML = docLinkHtml;\n",
              "          element.appendChild(docLink);\n",
              "        }\n",
              "      </script>\n",
              "    </div>\n",
              "  </div>\n",
              "  "
            ]
          },
          "metadata": {},
          "execution_count": 4
        }
      ],
      "source": [
        "# Read in Cities Data from Twitter Analysis\n",
        "all_cities = pd.read_csv('https://raw.githubusercontent.com/vishalkumarlondon/CreatorCities/main/data/creator_cities_top300.csv') \n",
        "all_cities = all_cities.dropna(how='all', axis=1) # Drop all NaN values\n",
        "all_cities['OSM_Search_Query'] = all_cities['state'] + ', ' + all_cities['country'] # Create OSM search query string\n",
        "all_cities.drop_duplicates(subset='state', inplace=True) # Drop all duplicate rows based on the state column\n",
        "all_cities['OSM_Search_Query'] = np.where(all_cities['state'] == \"Cape Town\", \"Cape Town, Western Cape, South Africa\", all_cities['OSM_Search_Query'])\n",
        "print('Dataframe', all_cities.shape) # Print size of dataframe\n",
        "all_cities.head() # Show dataframe"
      ]
    },
    {
      "cell_type": "markdown",
      "metadata": {
        "id": "9SPcLIBhbJW5"
      },
      "source": [
        "# Step 1 - Get AreaID"
      ]
    },
    {
      "cell_type": "code",
      "metadata": {
        "id": "WbtlMMlkytQQ"
      },
      "source": [
        "from OSMPythonTools.api import Api\n",
        "osm_api = Api()\n",
        "\n",
        "from OSMPythonTools.nominatim import Nominatim\n",
        "nominatim = Nominatim()\n",
        "\n",
        "from OSMPythonTools.overpass import overpassQueryBuilder, Overpass\n",
        "overpass = Overpass()"
      ],
      "execution_count": null,
      "outputs": []
    },
    {
      "cell_type": "code",
      "metadata": {
        "id": "4IXoJhv2y4n1"
      },
      "source": [
        "city_list = all_cities['OSM_Search_Query']\n",
        "print(len(city_list))\n",
        "\n",
        "# Create Empty List to store area id!\n",
        "areaId = []\n",
        "for i in city_list:\n",
        "  search_query = nominatim.query(i).areaId()\n",
        "   #print(search_query)\n",
        "  areaId.append(search_query)"
      ],
      "execution_count": null,
      "outputs": []
    },
    {
      "cell_type": "code",
      "metadata": {
        "id": "kf3KNKo32Qhw",
        "colab": {
          "base_uri": "https://localhost:8080/",
          "height": 206
        },
        "outputId": "548f6890-1f8b-4785-f659-3c189ec2cc73"
      },
      "source": [
        "df = {'OSM_Search_Query':city_list, 'areaID':areaId}\n",
        "area_ID_df = pd.DataFrame(df) \n",
        "area_ID_df = area_ID_df.reset_index(drop=True)\n",
        "area_ID_df[0:5]"
      ],
      "execution_count": null,
      "outputs": [
        {
          "output_type": "execute_result",
          "data": {
            "text/plain": [
              "                  OSM_Search_Query        areaID\n",
              "0          London,  United Kingdom  3.600066e+09\n",
              "1      Los Angeles,  United States  3.600207e+09\n",
              "2         New York,  United States  3.600176e+09\n",
              "3  Washington D.C.,  United States  3.605396e+09\n",
              "4           Austin,  United States  3.600113e+09"
            ],
            "text/html": [
              "\n",
              "  <div id=\"df-a60a0d18-9c29-4714-8961-5b41fef39794\">\n",
              "    <div class=\"colab-df-container\">\n",
              "      <div>\n",
              "<style scoped>\n",
              "    .dataframe tbody tr th:only-of-type {\n",
              "        vertical-align: middle;\n",
              "    }\n",
              "\n",
              "    .dataframe tbody tr th {\n",
              "        vertical-align: top;\n",
              "    }\n",
              "\n",
              "    .dataframe thead th {\n",
              "        text-align: right;\n",
              "    }\n",
              "</style>\n",
              "<table border=\"1\" class=\"dataframe\">\n",
              "  <thead>\n",
              "    <tr style=\"text-align: right;\">\n",
              "      <th></th>\n",
              "      <th>OSM_Search_Query</th>\n",
              "      <th>areaID</th>\n",
              "    </tr>\n",
              "  </thead>\n",
              "  <tbody>\n",
              "    <tr>\n",
              "      <th>0</th>\n",
              "      <td>London,  United Kingdom</td>\n",
              "      <td>3.600066e+09</td>\n",
              "    </tr>\n",
              "    <tr>\n",
              "      <th>1</th>\n",
              "      <td>Los Angeles,  United States</td>\n",
              "      <td>3.600207e+09</td>\n",
              "    </tr>\n",
              "    <tr>\n",
              "      <th>2</th>\n",
              "      <td>New York,  United States</td>\n",
              "      <td>3.600176e+09</td>\n",
              "    </tr>\n",
              "    <tr>\n",
              "      <th>3</th>\n",
              "      <td>Washington D.C.,  United States</td>\n",
              "      <td>3.605396e+09</td>\n",
              "    </tr>\n",
              "    <tr>\n",
              "      <th>4</th>\n",
              "      <td>Austin,  United States</td>\n",
              "      <td>3.600113e+09</td>\n",
              "    </tr>\n",
              "  </tbody>\n",
              "</table>\n",
              "</div>\n",
              "      <button class=\"colab-df-convert\" onclick=\"convertToInteractive('df-a60a0d18-9c29-4714-8961-5b41fef39794')\"\n",
              "              title=\"Convert this dataframe to an interactive table.\"\n",
              "              style=\"display:none;\">\n",
              "        \n",
              "  <svg xmlns=\"http://www.w3.org/2000/svg\" height=\"24px\"viewBox=\"0 0 24 24\"\n",
              "       width=\"24px\">\n",
              "    <path d=\"M0 0h24v24H0V0z\" fill=\"none\"/>\n",
              "    <path d=\"M18.56 5.44l.94 2.06.94-2.06 2.06-.94-2.06-.94-.94-2.06-.94 2.06-2.06.94zm-11 1L8.5 8.5l.94-2.06 2.06-.94-2.06-.94L8.5 2.5l-.94 2.06-2.06.94zm10 10l.94 2.06.94-2.06 2.06-.94-2.06-.94-.94-2.06-.94 2.06-2.06.94z\"/><path d=\"M17.41 7.96l-1.37-1.37c-.4-.4-.92-.59-1.43-.59-.52 0-1.04.2-1.43.59L10.3 9.45l-7.72 7.72c-.78.78-.78 2.05 0 2.83L4 21.41c.39.39.9.59 1.41.59.51 0 1.02-.2 1.41-.59l7.78-7.78 2.81-2.81c.8-.78.8-2.07 0-2.86zM5.41 20L4 18.59l7.72-7.72 1.47 1.35L5.41 20z\"/>\n",
              "  </svg>\n",
              "      </button>\n",
              "      \n",
              "  <style>\n",
              "    .colab-df-container {\n",
              "      display:flex;\n",
              "      flex-wrap:wrap;\n",
              "      gap: 12px;\n",
              "    }\n",
              "\n",
              "    .colab-df-convert {\n",
              "      background-color: #E8F0FE;\n",
              "      border: none;\n",
              "      border-radius: 50%;\n",
              "      cursor: pointer;\n",
              "      display: none;\n",
              "      fill: #1967D2;\n",
              "      height: 32px;\n",
              "      padding: 0 0 0 0;\n",
              "      width: 32px;\n",
              "    }\n",
              "\n",
              "    .colab-df-convert:hover {\n",
              "      background-color: #E2EBFA;\n",
              "      box-shadow: 0px 1px 2px rgba(60, 64, 67, 0.3), 0px 1px 3px 1px rgba(60, 64, 67, 0.15);\n",
              "      fill: #174EA6;\n",
              "    }\n",
              "\n",
              "    [theme=dark] .colab-df-convert {\n",
              "      background-color: #3B4455;\n",
              "      fill: #D2E3FC;\n",
              "    }\n",
              "\n",
              "    [theme=dark] .colab-df-convert:hover {\n",
              "      background-color: #434B5C;\n",
              "      box-shadow: 0px 1px 3px 1px rgba(0, 0, 0, 0.15);\n",
              "      filter: drop-shadow(0px 1px 2px rgba(0, 0, 0, 0.3));\n",
              "      fill: #FFFFFF;\n",
              "    }\n",
              "  </style>\n",
              "\n",
              "      <script>\n",
              "        const buttonEl =\n",
              "          document.querySelector('#df-a60a0d18-9c29-4714-8961-5b41fef39794 button.colab-df-convert');\n",
              "        buttonEl.style.display =\n",
              "          google.colab.kernel.accessAllowed ? 'block' : 'none';\n",
              "\n",
              "        async function convertToInteractive(key) {\n",
              "          const element = document.querySelector('#df-a60a0d18-9c29-4714-8961-5b41fef39794');\n",
              "          const dataTable =\n",
              "            await google.colab.kernel.invokeFunction('convertToInteractive',\n",
              "                                                     [key], {});\n",
              "          if (!dataTable) return;\n",
              "\n",
              "          const docLinkHtml = 'Like what you see? Visit the ' +\n",
              "            '<a target=\"_blank\" href=https://colab.research.google.com/notebooks/data_table.ipynb>data table notebook</a>'\n",
              "            + ' to learn more about interactive tables.';\n",
              "          element.innerHTML = '';\n",
              "          dataTable['output_type'] = 'display_data';\n",
              "          await google.colab.output.renderOutput(dataTable, element);\n",
              "          const docLink = document.createElement('div');\n",
              "          docLink.innerHTML = docLinkHtml;\n",
              "          element.appendChild(docLink);\n",
              "        }\n",
              "      </script>\n",
              "    </div>\n",
              "  </div>\n",
              "  "
            ]
          },
          "metadata": {},
          "execution_count": 7
        }
      ]
    },
    {
      "cell_type": "code",
      "metadata": {
        "id": "mbUHSz5E8rfS"
      },
      "source": [
        "len(area_ID_df)"
      ],
      "execution_count": null,
      "outputs": []
    },
    {
      "cell_type": "code",
      "metadata": {
        "id": "Q6Z-27FH9m9w"
      },
      "source": [
        "area_ID_df[area_ID_df[\"areaID\"].isnull()]"
      ],
      "execution_count": null,
      "outputs": []
    },
    {
      "cell_type": "code",
      "metadata": {
        "id": "IlFKqdywdnrN"
      },
      "source": [
        "#Merge Data Frame\n",
        "all_cities_new = pd.merge(all_cities, area_ID_df, how='outer', on='OSM_Search_Query')\n",
        "print(all_cities_new.shape)\n",
        "all_cities_new.head()"
      ],
      "execution_count": null,
      "outputs": []
    },
    {
      "cell_type": "code",
      "source": [
        "all_cities_new.OSM_Search_Query.nunique()"
      ],
      "metadata": {
        "id": "CPNHksxx8zpg"
      },
      "execution_count": null,
      "outputs": []
    },
    {
      "cell_type": "markdown",
      "metadata": {
        "id": "2T3qRuqrj_tS"
      },
      "source": [
        "# Step 2 - OSMPythonTools\n",
        "\n",
        "Get OpenStreetMap Data using OSMPythonTools and the areaID of a city"
      ]
    },
    {
      "cell_type": "code",
      "source": [
        "all_cities_new = all_cities_new[~all_cities_new.areaID.isna()]\n",
        "all_cities_new.areaID = all_cities_new.areaID.astype(int)"
      ],
      "metadata": {
        "id": "-VOdNvNzPzvF"
      },
      "execution_count": null,
      "outputs": []
    },
    {
      "cell_type": "code",
      "source": [
        "cities_0030 = all_cities_new[0:30]\n",
        "cities_3060 = all_cities_new[30:60]\n",
        "cities_6090 = all_cities_new[60:90]\n",
        "cities_90120 = all_cities_new[90:120]\n",
        "cities_120150 = all_cities_new[120:150]\n",
        "cities_150180 = all_cities_new[150:180]\n",
        "cities_180210 = all_cities_new[180:210]\n",
        "cities_210240 = all_cities_new[210:]"
      ],
      "metadata": {
        "id": "SVEyA2Ejawq_"
      },
      "execution_count": null,
      "outputs": []
    },
    {
      "cell_type": "markdown",
      "source": [
        "## Amenity\n"
      ],
      "metadata": {
        "id": "rp6pplXTlQsN"
      }
    },
    {
      "cell_type": "code",
      "source": [
        "def GetAmenityNode(data):\n",
        "  cities_node_df = []\n",
        "\n",
        "  for i, j in zip(data.areaID, data.OSM_Search_Query):\n",
        "    try:\n",
        "      city_areaID = i\n",
        "      city_name = j\n",
        "      city_result = overpass.query(overpassQueryBuilder(area=i, elementType='node', selector='amenity', out='meta'))\n",
        "      city_result_json = city_result.toJSON()\n",
        "      city_result_df = pd.json_normalize(city_result_json, record_path=['elements'])\n",
        "      city_result_df['areaID'] = city_areaID\n",
        "      city_result_df['OSM_Search_Query'] = city_name\n",
        "      cities_node_df.append(city_result_df)\n",
        "    except Exception:\n",
        "      pass\n",
        "\n",
        "  all_df_amenity_node = pd.concat(cities_node_df).fillna(0).reset_index(drop=True)\n",
        "  all_df_amenity_node = all_df_amenity_node[['OSM_Search_Query', 'areaID', 'type','lat','lon','id','uid','tags.name','tags.amenity']]\n",
        "\n",
        "  return all_df_amenity_node"
      ],
      "metadata": {
        "id": "HYjXIyyr8Pub"
      },
      "execution_count": null,
      "outputs": []
    },
    {
      "cell_type": "code",
      "source": [
        "amenity_cities_030 = GetAmenityNode(cities_0030)\n",
        "amenity_cities_060 = GetAmenityNode(cities_3060)\n",
        "amenity_cities_090 = GetAmenityNode(cities_6090)\n",
        "amenity_cities_120 = GetAmenityNode(cities_90120)\n",
        "amenity_cities_150 = GetAmenityNode(cities_120150)\n",
        "amenity_cities_180 = GetAmenityNode(cities_150180)\n",
        "amenity_cities_210 = GetAmenityNode(cities_180210)\n",
        "amenity_cities_240 = GetAmenityNode(cities_210240)"
      ],
      "metadata": {
        "id": "nxKp4-kzbKWK"
      },
      "execution_count": null,
      "outputs": []
    },
    {
      "cell_type": "code",
      "source": [
        "all_df_amenity_node = pd.concat([amenity_cities_030, amenity_cities_060, amenity_cities_090, \n",
        "                                 amenity_cities_120, amenity_cities_150, amenity_cities_180, \n",
        "                                 amenity_cities_210, amenity_cities_240])\n",
        "\n",
        "print(all_df_amenity_node.shape)\n",
        "all_df_amenity_node.head()"
      ],
      "metadata": {
        "id": "gECQErvmbfo3"
      },
      "execution_count": null,
      "outputs": []
    },
    {
      "cell_type": "code",
      "source": [
        "all_df_amenity_node.OSM_Search_Query.nunique()"
      ],
      "metadata": {
        "id": "NzkGoqzi8rXP"
      },
      "execution_count": null,
      "outputs": []
    },
    {
      "cell_type": "markdown",
      "source": [
        "## Tourism\n"
      ],
      "metadata": {
        "id": "wgNgtEv6Y37_"
      }
    },
    {
      "cell_type": "code",
      "source": [
        "# NODE\n",
        "def GetTourismNode(data):\n",
        "  cities_node_df = []\n",
        "\n",
        "  for i, j in zip(data.areaID, data.OSM_Search_Query):\n",
        "    try:\n",
        "      city_areaID = i\n",
        "      city_name = j\n",
        "\n",
        "      city_result = overpass.query(overpassQueryBuilder(area=i, elementType='node', selector='tourism', out='meta'))\n",
        "      city_result_json = city_result.toJSON()\n",
        "      city_result_df = pd.json_normalize(city_result_json, record_path=['elements'])\n",
        "      city_result_df['areaID'] = city_areaID\n",
        "      city_result_df['OSM_Search_Query'] = city_name\n",
        "      cities_node_df.append(city_result_df)\n",
        "    except Exception:\n",
        "      pass\n",
        "\n",
        "  all_df_tourism_node = pd.concat(cities_node_df).fillna(0).reset_index(drop=True)\n",
        "  all_df_tourism_node = all_df_tourism_node[['OSM_Search_Query', 'areaID', 'type','lat','lon','id','uid','tags.name','tags.tourism']]\n",
        "\n",
        "  return all_df_tourism_node"
      ],
      "metadata": {
        "id": "weVKxWEiY38K"
      },
      "execution_count": null,
      "outputs": []
    },
    {
      "cell_type": "code",
      "source": [
        "tourism_cities_030 = GetTourismNode(cities_0030)\n",
        "tourism_cities_060 = GetTourismNode(cities_3060)\n",
        "tourism_cities_090 = GetTourismNode(cities_6090)\n",
        "tourism_cities_120 = GetTourismNode(cities_90120)\n",
        "tourism_cities_150 = GetTourismNode(cities_120150)\n",
        "tourism_cities_180 = GetTourismNode(cities_150180)\n",
        "tourism_cities_210 = GetTourismNode(cities_180210)\n",
        "tourism_cities_240 = GetTourismNode(cities_210240)"
      ],
      "metadata": {
        "id": "FA2ngUFRY38K"
      },
      "execution_count": null,
      "outputs": []
    },
    {
      "cell_type": "code",
      "source": [
        "all_df_tourism_node = pd.concat([tourism_cities_030, tourism_cities_060, tourism_cities_090, \n",
        "                                 tourism_cities_120, tourism_cities_150, tourism_cities_180, \n",
        "                                 tourism_cities_210, tourism_cities_240])\n",
        "\n",
        "print(all_df_tourism_node.shape)\n",
        "all_df_tourism_node.head()"
      ],
      "metadata": {
        "id": "mn9mpDUtY38K"
      },
      "execution_count": null,
      "outputs": []
    },
    {
      "cell_type": "code",
      "source": [
        "all_df_tourism_node.OSM_Search_Query.nunique()"
      ],
      "metadata": {
        "id": "01yogPnXY38L"
      },
      "execution_count": null,
      "outputs": []
    },
    {
      "cell_type": "markdown",
      "source": [
        "## Leisure\n"
      ],
      "metadata": {
        "id": "xI6B6dXkY4gF"
      }
    },
    {
      "cell_type": "code",
      "source": [
        "# NODE\n",
        "def GetLeisureNode(data):\n",
        "  cities_node_df = []\n",
        "\n",
        "  for i, j in zip(data.areaID, data.OSM_Search_Query):\n",
        "    try:\n",
        "      city_areaID = i\n",
        "      city_name = j\n",
        "\n",
        "      city_result = overpass.query(overpassQueryBuilder(area=i, elementType='node', selector='leisure', out='meta'))\n",
        "      city_result_json = city_result.toJSON()\n",
        "      city_result_df = pd.json_normalize(city_result_json, record_path=['elements'])\n",
        "      city_result_df['areaID'] = city_areaID\n",
        "      city_result_df['OSM_Search_Query'] = city_name\n",
        "      cities_node_df.append(city_result_df)\n",
        "    except Exception:\n",
        "      pass\n",
        "\n",
        "  all_df_leisure_node = pd.concat(cities_node_df).fillna(0).reset_index(drop=True)\n",
        "  all_df_leisure_node = all_df_leisure_node[['OSM_Search_Query', 'areaID', 'type','lat','lon','id','uid','tags.name','tags.leisure']]\n",
        "\n",
        "  return all_df_leisure_node"
      ],
      "metadata": {
        "id": "Rsk1Cp8dY4gF"
      },
      "execution_count": null,
      "outputs": []
    },
    {
      "cell_type": "code",
      "source": [
        "leisure_cities_030 = GetLeisureNode(cities_0030)\n",
        "leisure_cities_060 = GetLeisureNode(cities_3060)\n",
        "leisure_cities_090 = GetLeisureNode(cities_6090)\n",
        "leisure_cities_120 = GetLeisureNode(cities_90120)\n",
        "leisure_cities_150 = GetLeisureNode(cities_120150)\n",
        "leisure_cities_180 = GetLeisureNode(cities_150180)\n",
        "leisure_cities_210 = GetLeisureNode(cities_180210)\n",
        "leisure_cities_240 = GetLeisureNode(cities_210240)"
      ],
      "metadata": {
        "id": "U3YqYtZsY4gF"
      },
      "execution_count": null,
      "outputs": []
    },
    {
      "cell_type": "code",
      "source": [
        "all_df_leisure_node = pd.concat([leisure_cities_030, leisure_cities_060, leisure_cities_090, \n",
        "                                 leisure_cities_120, leisure_cities_150, leisure_cities_180, \n",
        "                                 leisure_cities_210, leisure_cities_240])\n",
        "\n",
        "print(all_df_leisure_node.shape)\n",
        "all_df_leisure_node.head()"
      ],
      "metadata": {
        "colab": {
          "base_uri": "https://localhost:8080/",
          "height": 225
        },
        "outputId": "23060fa4-323c-45b5-be70-275ef3dcdedf",
        "id": "h-9JdOY4Y4gG"
      },
      "execution_count": null,
      "outputs": [
        {
          "output_type": "stream",
          "name": "stdout",
          "text": [
            "(449430, 9)\n"
          ]
        },
        {
          "output_type": "execute_result",
          "data": {
            "text/plain": [
              "  OSM_Search_Query      areaID  type        lat        lon          id  \\\n",
              "0  Moscow,  Russia  3602555133  node  55.816129  37.532389  40889936.0   \n",
              "1  Moscow,  Russia  3602555133  node  55.836366  37.503649  40901233.0   \n",
              "2  Moscow,  Russia  3602555133  node  55.850427  37.535671  40903852.0   \n",
              "3  Moscow,  Russia  3602555133  node  55.880050  37.481759  40905170.0   \n",
              "4  Moscow,  Russia  3602555133  node  55.823834  37.558386  43076189.0   \n",
              "\n",
              "          uid     tags.name tags.amenity  \n",
              "0    519501.0           ЕКА         fuel  \n",
              "1   9451067.0  Газпромнефть         fuel  \n",
              "2  12100948.0        Лукойл         fuel  \n",
              "3   9451067.0  Газпромнефть         fuel  \n",
              "4   9451067.0      Роснефть         fuel  "
            ],
            "text/html": [
              "\n",
              "  <div id=\"df-ea5872ac-22ad-4446-a5b5-247d65b9e491\">\n",
              "    <div class=\"colab-df-container\">\n",
              "      <div>\n",
              "<style scoped>\n",
              "    .dataframe tbody tr th:only-of-type {\n",
              "        vertical-align: middle;\n",
              "    }\n",
              "\n",
              "    .dataframe tbody tr th {\n",
              "        vertical-align: top;\n",
              "    }\n",
              "\n",
              "    .dataframe thead th {\n",
              "        text-align: right;\n",
              "    }\n",
              "</style>\n",
              "<table border=\"1\" class=\"dataframe\">\n",
              "  <thead>\n",
              "    <tr style=\"text-align: right;\">\n",
              "      <th></th>\n",
              "      <th>OSM_Search_Query</th>\n",
              "      <th>areaID</th>\n",
              "      <th>type</th>\n",
              "      <th>lat</th>\n",
              "      <th>lon</th>\n",
              "      <th>id</th>\n",
              "      <th>uid</th>\n",
              "      <th>tags.name</th>\n",
              "      <th>tags.amenity</th>\n",
              "    </tr>\n",
              "  </thead>\n",
              "  <tbody>\n",
              "    <tr>\n",
              "      <th>0</th>\n",
              "      <td>Moscow,  Russia</td>\n",
              "      <td>3602555133</td>\n",
              "      <td>node</td>\n",
              "      <td>55.816129</td>\n",
              "      <td>37.532389</td>\n",
              "      <td>40889936.0</td>\n",
              "      <td>519501.0</td>\n",
              "      <td>ЕКА</td>\n",
              "      <td>fuel</td>\n",
              "    </tr>\n",
              "    <tr>\n",
              "      <th>1</th>\n",
              "      <td>Moscow,  Russia</td>\n",
              "      <td>3602555133</td>\n",
              "      <td>node</td>\n",
              "      <td>55.836366</td>\n",
              "      <td>37.503649</td>\n",
              "      <td>40901233.0</td>\n",
              "      <td>9451067.0</td>\n",
              "      <td>Газпромнефть</td>\n",
              "      <td>fuel</td>\n",
              "    </tr>\n",
              "    <tr>\n",
              "      <th>2</th>\n",
              "      <td>Moscow,  Russia</td>\n",
              "      <td>3602555133</td>\n",
              "      <td>node</td>\n",
              "      <td>55.850427</td>\n",
              "      <td>37.535671</td>\n",
              "      <td>40903852.0</td>\n",
              "      <td>12100948.0</td>\n",
              "      <td>Лукойл</td>\n",
              "      <td>fuel</td>\n",
              "    </tr>\n",
              "    <tr>\n",
              "      <th>3</th>\n",
              "      <td>Moscow,  Russia</td>\n",
              "      <td>3602555133</td>\n",
              "      <td>node</td>\n",
              "      <td>55.880050</td>\n",
              "      <td>37.481759</td>\n",
              "      <td>40905170.0</td>\n",
              "      <td>9451067.0</td>\n",
              "      <td>Газпромнефть</td>\n",
              "      <td>fuel</td>\n",
              "    </tr>\n",
              "    <tr>\n",
              "      <th>4</th>\n",
              "      <td>Moscow,  Russia</td>\n",
              "      <td>3602555133</td>\n",
              "      <td>node</td>\n",
              "      <td>55.823834</td>\n",
              "      <td>37.558386</td>\n",
              "      <td>43076189.0</td>\n",
              "      <td>9451067.0</td>\n",
              "      <td>Роснефть</td>\n",
              "      <td>fuel</td>\n",
              "    </tr>\n",
              "  </tbody>\n",
              "</table>\n",
              "</div>\n",
              "      <button class=\"colab-df-convert\" onclick=\"convertToInteractive('df-ea5872ac-22ad-4446-a5b5-247d65b9e491')\"\n",
              "              title=\"Convert this dataframe to an interactive table.\"\n",
              "              style=\"display:none;\">\n",
              "        \n",
              "  <svg xmlns=\"http://www.w3.org/2000/svg\" height=\"24px\"viewBox=\"0 0 24 24\"\n",
              "       width=\"24px\">\n",
              "    <path d=\"M0 0h24v24H0V0z\" fill=\"none\"/>\n",
              "    <path d=\"M18.56 5.44l.94 2.06.94-2.06 2.06-.94-2.06-.94-.94-2.06-.94 2.06-2.06.94zm-11 1L8.5 8.5l.94-2.06 2.06-.94-2.06-.94L8.5 2.5l-.94 2.06-2.06.94zm10 10l.94 2.06.94-2.06 2.06-.94-2.06-.94-.94-2.06-.94 2.06-2.06.94z\"/><path d=\"M17.41 7.96l-1.37-1.37c-.4-.4-.92-.59-1.43-.59-.52 0-1.04.2-1.43.59L10.3 9.45l-7.72 7.72c-.78.78-.78 2.05 0 2.83L4 21.41c.39.39.9.59 1.41.59.51 0 1.02-.2 1.41-.59l7.78-7.78 2.81-2.81c.8-.78.8-2.07 0-2.86zM5.41 20L4 18.59l7.72-7.72 1.47 1.35L5.41 20z\"/>\n",
              "  </svg>\n",
              "      </button>\n",
              "      \n",
              "  <style>\n",
              "    .colab-df-container {\n",
              "      display:flex;\n",
              "      flex-wrap:wrap;\n",
              "      gap: 12px;\n",
              "    }\n",
              "\n",
              "    .colab-df-convert {\n",
              "      background-color: #E8F0FE;\n",
              "      border: none;\n",
              "      border-radius: 50%;\n",
              "      cursor: pointer;\n",
              "      display: none;\n",
              "      fill: #1967D2;\n",
              "      height: 32px;\n",
              "      padding: 0 0 0 0;\n",
              "      width: 32px;\n",
              "    }\n",
              "\n",
              "    .colab-df-convert:hover {\n",
              "      background-color: #E2EBFA;\n",
              "      box-shadow: 0px 1px 2px rgba(60, 64, 67, 0.3), 0px 1px 3px 1px rgba(60, 64, 67, 0.15);\n",
              "      fill: #174EA6;\n",
              "    }\n",
              "\n",
              "    [theme=dark] .colab-df-convert {\n",
              "      background-color: #3B4455;\n",
              "      fill: #D2E3FC;\n",
              "    }\n",
              "\n",
              "    [theme=dark] .colab-df-convert:hover {\n",
              "      background-color: #434B5C;\n",
              "      box-shadow: 0px 1px 3px 1px rgba(0, 0, 0, 0.15);\n",
              "      filter: drop-shadow(0px 1px 2px rgba(0, 0, 0, 0.3));\n",
              "      fill: #FFFFFF;\n",
              "    }\n",
              "  </style>\n",
              "\n",
              "      <script>\n",
              "        const buttonEl =\n",
              "          document.querySelector('#df-ea5872ac-22ad-4446-a5b5-247d65b9e491 button.colab-df-convert');\n",
              "        buttonEl.style.display =\n",
              "          google.colab.kernel.accessAllowed ? 'block' : 'none';\n",
              "\n",
              "        async function convertToInteractive(key) {\n",
              "          const element = document.querySelector('#df-ea5872ac-22ad-4446-a5b5-247d65b9e491');\n",
              "          const dataTable =\n",
              "            await google.colab.kernel.invokeFunction('convertToInteractive',\n",
              "                                                     [key], {});\n",
              "          if (!dataTable) return;\n",
              "\n",
              "          const docLinkHtml = 'Like what you see? Visit the ' +\n",
              "            '<a target=\"_blank\" href=https://colab.research.google.com/notebooks/data_table.ipynb>data table notebook</a>'\n",
              "            + ' to learn more about interactive tables.';\n",
              "          element.innerHTML = '';\n",
              "          dataTable['output_type'] = 'display_data';\n",
              "          await google.colab.output.renderOutput(dataTable, element);\n",
              "          const docLink = document.createElement('div');\n",
              "          docLink.innerHTML = docLinkHtml;\n",
              "          element.appendChild(docLink);\n",
              "        }\n",
              "      </script>\n",
              "    </div>\n",
              "  </div>\n",
              "  "
            ]
          },
          "metadata": {},
          "execution_count": 22
        }
      ]
    },
    {
      "cell_type": "code",
      "source": [
        "all_df_leisure_node.OSM_Search_Query.nunique()"
      ],
      "metadata": {
        "colab": {
          "base_uri": "https://localhost:8080/"
        },
        "outputId": "4b22c23d-668e-4816-8411-9bc1960f9544",
        "id": "Cbhcgv1YY4gG"
      },
      "execution_count": null,
      "outputs": [
        {
          "output_type": "execute_result",
          "data": {
            "text/plain": [
              "65"
            ]
          },
          "metadata": {},
          "execution_count": 23
        }
      ]
    },
    {
      "cell_type": "markdown",
      "source": [
        "## Nature\n"
      ],
      "metadata": {
        "id": "kxONfrHoY47J"
      }
    },
    {
      "cell_type": "code",
      "source": [
        "# NODE\n",
        "def GetNatureNode(data):\n",
        "  cities_node_df = []\n",
        "\n",
        "  for i, j in zip(data.areaID, data.OSM_Search_Query):\n",
        "    try:\n",
        "      city_areaID = i\n",
        "      city_name = j\n",
        "\n",
        "      city_result = overpass.query(overpassQueryBuilder(area=i, elementType='node', selector='natural', out='meta'))\n",
        "      city_result_json = city_result.toJSON()\n",
        "      city_result_df = pd.json_normalize(city_result_json, record_path=['elements'])\n",
        "      city_result_df['areaID'] = city_areaID\n",
        "      city_result_df['OSM_Search_Query'] = city_name\n",
        "      cities_node_df.append(city_result_df)\n",
        "    except Exception:\n",
        "      pass\n",
        "\n",
        "  all_df_natural_node = pd.concat(cities_node_df).fillna(0).reset_index(drop=True)\n",
        "  all_df_natural_node = all_df_amenity_node[['OSM_Search_Query', 'areaID', 'type','lat','lon','id','uid','tags.name','tags.natural']]\n",
        "\n",
        "  return all_df_amenity_node"
      ],
      "metadata": {
        "id": "EXIbBnZgY47K"
      },
      "execution_count": null,
      "outputs": []
    },
    {
      "cell_type": "code",
      "source": [
        "natural_cities_030 = GetNatureNode(cities_0030)\n",
        "natural_cities_060 = GetNatureNode(cities_3060)\n",
        "natural_cities_090 = GetNatureNode(cities_6090)\n",
        "natural_cities_120 = GetNatureNode(cities_90120)\n",
        "natural_cities_150 = GetNatureNode(cities_120150)\n",
        "natural_cities_180 = GetNatureNode(cities_150180)\n",
        "natural_cities_210 = GetNatureNode(cities_180210)\n",
        "natural_cities_240 = GetNatureNode(cities_210240)"
      ],
      "metadata": {
        "id": "zwHdUbKNY47K"
      },
      "execution_count": null,
      "outputs": []
    },
    {
      "cell_type": "code",
      "source": [
        "all_df_natural_node = pd.concat([natural_cities_030, natural_cities_060, natural_cities_090, \n",
        "                                 natural_cities_120, natural_cities_150, natural_cities_180, \n",
        "                                 natural_cities_210, natural_cities_240])\n",
        "\n",
        "print(all_df_natural_node.shape)\n",
        "all_df_natural_node.head()"
      ],
      "metadata": {
        "colab": {
          "base_uri": "https://localhost:8080/",
          "height": 225
        },
        "outputId": "23060fa4-323c-45b5-be70-275ef3dcdedf",
        "id": "8UPb8nFwY47K"
      },
      "execution_count": null,
      "outputs": [
        {
          "output_type": "stream",
          "name": "stdout",
          "text": [
            "(449430, 9)\n"
          ]
        },
        {
          "output_type": "execute_result",
          "data": {
            "text/plain": [
              "  OSM_Search_Query      areaID  type        lat        lon          id  \\\n",
              "0  Moscow,  Russia  3602555133  node  55.816129  37.532389  40889936.0   \n",
              "1  Moscow,  Russia  3602555133  node  55.836366  37.503649  40901233.0   \n",
              "2  Moscow,  Russia  3602555133  node  55.850427  37.535671  40903852.0   \n",
              "3  Moscow,  Russia  3602555133  node  55.880050  37.481759  40905170.0   \n",
              "4  Moscow,  Russia  3602555133  node  55.823834  37.558386  43076189.0   \n",
              "\n",
              "          uid     tags.name tags.amenity  \n",
              "0    519501.0           ЕКА         fuel  \n",
              "1   9451067.0  Газпромнефть         fuel  \n",
              "2  12100948.0        Лукойл         fuel  \n",
              "3   9451067.0  Газпромнефть         fuel  \n",
              "4   9451067.0      Роснефть         fuel  "
            ],
            "text/html": [
              "\n",
              "  <div id=\"df-ea5872ac-22ad-4446-a5b5-247d65b9e491\">\n",
              "    <div class=\"colab-df-container\">\n",
              "      <div>\n",
              "<style scoped>\n",
              "    .dataframe tbody tr th:only-of-type {\n",
              "        vertical-align: middle;\n",
              "    }\n",
              "\n",
              "    .dataframe tbody tr th {\n",
              "        vertical-align: top;\n",
              "    }\n",
              "\n",
              "    .dataframe thead th {\n",
              "        text-align: right;\n",
              "    }\n",
              "</style>\n",
              "<table border=\"1\" class=\"dataframe\">\n",
              "  <thead>\n",
              "    <tr style=\"text-align: right;\">\n",
              "      <th></th>\n",
              "      <th>OSM_Search_Query</th>\n",
              "      <th>areaID</th>\n",
              "      <th>type</th>\n",
              "      <th>lat</th>\n",
              "      <th>lon</th>\n",
              "      <th>id</th>\n",
              "      <th>uid</th>\n",
              "      <th>tags.name</th>\n",
              "      <th>tags.amenity</th>\n",
              "    </tr>\n",
              "  </thead>\n",
              "  <tbody>\n",
              "    <tr>\n",
              "      <th>0</th>\n",
              "      <td>Moscow,  Russia</td>\n",
              "      <td>3602555133</td>\n",
              "      <td>node</td>\n",
              "      <td>55.816129</td>\n",
              "      <td>37.532389</td>\n",
              "      <td>40889936.0</td>\n",
              "      <td>519501.0</td>\n",
              "      <td>ЕКА</td>\n",
              "      <td>fuel</td>\n",
              "    </tr>\n",
              "    <tr>\n",
              "      <th>1</th>\n",
              "      <td>Moscow,  Russia</td>\n",
              "      <td>3602555133</td>\n",
              "      <td>node</td>\n",
              "      <td>55.836366</td>\n",
              "      <td>37.503649</td>\n",
              "      <td>40901233.0</td>\n",
              "      <td>9451067.0</td>\n",
              "      <td>Газпромнефть</td>\n",
              "      <td>fuel</td>\n",
              "    </tr>\n",
              "    <tr>\n",
              "      <th>2</th>\n",
              "      <td>Moscow,  Russia</td>\n",
              "      <td>3602555133</td>\n",
              "      <td>node</td>\n",
              "      <td>55.850427</td>\n",
              "      <td>37.535671</td>\n",
              "      <td>40903852.0</td>\n",
              "      <td>12100948.0</td>\n",
              "      <td>Лукойл</td>\n",
              "      <td>fuel</td>\n",
              "    </tr>\n",
              "    <tr>\n",
              "      <th>3</th>\n",
              "      <td>Moscow,  Russia</td>\n",
              "      <td>3602555133</td>\n",
              "      <td>node</td>\n",
              "      <td>55.880050</td>\n",
              "      <td>37.481759</td>\n",
              "      <td>40905170.0</td>\n",
              "      <td>9451067.0</td>\n",
              "      <td>Газпромнефть</td>\n",
              "      <td>fuel</td>\n",
              "    </tr>\n",
              "    <tr>\n",
              "      <th>4</th>\n",
              "      <td>Moscow,  Russia</td>\n",
              "      <td>3602555133</td>\n",
              "      <td>node</td>\n",
              "      <td>55.823834</td>\n",
              "      <td>37.558386</td>\n",
              "      <td>43076189.0</td>\n",
              "      <td>9451067.0</td>\n",
              "      <td>Роснефть</td>\n",
              "      <td>fuel</td>\n",
              "    </tr>\n",
              "  </tbody>\n",
              "</table>\n",
              "</div>\n",
              "      <button class=\"colab-df-convert\" onclick=\"convertToInteractive('df-ea5872ac-22ad-4446-a5b5-247d65b9e491')\"\n",
              "              title=\"Convert this dataframe to an interactive table.\"\n",
              "              style=\"display:none;\">\n",
              "        \n",
              "  <svg xmlns=\"http://www.w3.org/2000/svg\" height=\"24px\"viewBox=\"0 0 24 24\"\n",
              "       width=\"24px\">\n",
              "    <path d=\"M0 0h24v24H0V0z\" fill=\"none\"/>\n",
              "    <path d=\"M18.56 5.44l.94 2.06.94-2.06 2.06-.94-2.06-.94-.94-2.06-.94 2.06-2.06.94zm-11 1L8.5 8.5l.94-2.06 2.06-.94-2.06-.94L8.5 2.5l-.94 2.06-2.06.94zm10 10l.94 2.06.94-2.06 2.06-.94-2.06-.94-.94-2.06-.94 2.06-2.06.94z\"/><path d=\"M17.41 7.96l-1.37-1.37c-.4-.4-.92-.59-1.43-.59-.52 0-1.04.2-1.43.59L10.3 9.45l-7.72 7.72c-.78.78-.78 2.05 0 2.83L4 21.41c.39.39.9.59 1.41.59.51 0 1.02-.2 1.41-.59l7.78-7.78 2.81-2.81c.8-.78.8-2.07 0-2.86zM5.41 20L4 18.59l7.72-7.72 1.47 1.35L5.41 20z\"/>\n",
              "  </svg>\n",
              "      </button>\n",
              "      \n",
              "  <style>\n",
              "    .colab-df-container {\n",
              "      display:flex;\n",
              "      flex-wrap:wrap;\n",
              "      gap: 12px;\n",
              "    }\n",
              "\n",
              "    .colab-df-convert {\n",
              "      background-color: #E8F0FE;\n",
              "      border: none;\n",
              "      border-radius: 50%;\n",
              "      cursor: pointer;\n",
              "      display: none;\n",
              "      fill: #1967D2;\n",
              "      height: 32px;\n",
              "      padding: 0 0 0 0;\n",
              "      width: 32px;\n",
              "    }\n",
              "\n",
              "    .colab-df-convert:hover {\n",
              "      background-color: #E2EBFA;\n",
              "      box-shadow: 0px 1px 2px rgba(60, 64, 67, 0.3), 0px 1px 3px 1px rgba(60, 64, 67, 0.15);\n",
              "      fill: #174EA6;\n",
              "    }\n",
              "\n",
              "    [theme=dark] .colab-df-convert {\n",
              "      background-color: #3B4455;\n",
              "      fill: #D2E3FC;\n",
              "    }\n",
              "\n",
              "    [theme=dark] .colab-df-convert:hover {\n",
              "      background-color: #434B5C;\n",
              "      box-shadow: 0px 1px 3px 1px rgba(0, 0, 0, 0.15);\n",
              "      filter: drop-shadow(0px 1px 2px rgba(0, 0, 0, 0.3));\n",
              "      fill: #FFFFFF;\n",
              "    }\n",
              "  </style>\n",
              "\n",
              "      <script>\n",
              "        const buttonEl =\n",
              "          document.querySelector('#df-ea5872ac-22ad-4446-a5b5-247d65b9e491 button.colab-df-convert');\n",
              "        buttonEl.style.display =\n",
              "          google.colab.kernel.accessAllowed ? 'block' : 'none';\n",
              "\n",
              "        async function convertToInteractive(key) {\n",
              "          const element = document.querySelector('#df-ea5872ac-22ad-4446-a5b5-247d65b9e491');\n",
              "          const dataTable =\n",
              "            await google.colab.kernel.invokeFunction('convertToInteractive',\n",
              "                                                     [key], {});\n",
              "          if (!dataTable) return;\n",
              "\n",
              "          const docLinkHtml = 'Like what you see? Visit the ' +\n",
              "            '<a target=\"_blank\" href=https://colab.research.google.com/notebooks/data_table.ipynb>data table notebook</a>'\n",
              "            + ' to learn more about interactive tables.';\n",
              "          element.innerHTML = '';\n",
              "          dataTable['output_type'] = 'display_data';\n",
              "          await google.colab.output.renderOutput(dataTable, element);\n",
              "          const docLink = document.createElement('div');\n",
              "          docLink.innerHTML = docLinkHtml;\n",
              "          element.appendChild(docLink);\n",
              "        }\n",
              "      </script>\n",
              "    </div>\n",
              "  </div>\n",
              "  "
            ]
          },
          "metadata": {},
          "execution_count": 22
        }
      ]
    },
    {
      "cell_type": "code",
      "source": [
        "all_df_natural_node.OSM_Search_Query.nunique()"
      ],
      "metadata": {
        "colab": {
          "base_uri": "https://localhost:8080/"
        },
        "outputId": "4b22c23d-668e-4816-8411-9bc1960f9544",
        "id": "AETGZz4IY47K"
      },
      "execution_count": null,
      "outputs": [
        {
          "output_type": "execute_result",
          "data": {
            "text/plain": [
              "65"
            ]
          },
          "metadata": {},
          "execution_count": 23
        }
      ]
    }
  ],
  "metadata": {
    "colab": {
      "background_execution": "on",
      "collapsed_sections": [],
      "machine_shape": "hm",
      "provenance": [],
      "toc_visible": true,
      "authorship_tag": "ABX9TyM9uNu3KMV/eVgmauXI6fg2",
      "include_colab_link": true
    },
    "gpuClass": "standard",
    "kernelspec": {
      "display_name": "Python 3",
      "name": "python3"
    },
    "language_info": {
      "name": "python"
    }
  },
  "nbformat": 4,
  "nbformat_minor": 0
}